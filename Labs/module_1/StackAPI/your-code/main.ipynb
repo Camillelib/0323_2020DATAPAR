{
 "cells": [
  {
   "cell_type": "markdown",
   "metadata": {},
   "source": [
    "# StackAPI\n",
    "\n",
    "#### Import the necessary libraries here:"
   ]
  },
  {
   "cell_type": "code",
   "execution_count": 2,
   "metadata": {},
   "outputs": [
    {
     "name": "stdout",
     "output_type": "stream",
     "text": [
      "Collecting stackapi\n",
      "  Downloading StackAPI-0.1.12.tar.gz (5.5 kB)\n",
      "Requirement already satisfied: requests in c:\\users\\camille\\anaconda3\\anaconda33\\lib\\site-packages (from stackapi) (2.22.0)\n",
      "Requirement already satisfied: certifi>=2017.4.17 in c:\\users\\camille\\anaconda3\\anaconda33\\lib\\site-packages (from requests->stackapi) (2019.11.28)\n",
      "Requirement already satisfied: urllib3!=1.25.0,!=1.25.1,<1.26,>=1.21.1 in c:\\users\\camille\\anaconda3\\anaconda33\\lib\\site-packages (from requests->stackapi) (1.25.8)\n",
      "Requirement already satisfied: idna<2.9,>=2.5 in c:\\users\\camille\\anaconda3\\anaconda33\\lib\\site-packages (from requests->stackapi) (2.8)\n",
      "Requirement already satisfied: chardet<3.1.0,>=3.0.2 in c:\\users\\camille\\anaconda3\\anaconda33\\lib\\site-packages (from requests->stackapi) (3.0.4)\n",
      "Building wheels for collected packages: stackapi\n",
      "  Building wheel for stackapi (setup.py): started\n",
      "  Building wheel for stackapi (setup.py): finished with status 'done'\n",
      "  Created wheel for stackapi: filename=StackAPI-0.1.12-py3-none-any.whl size=5673 sha256=02454b58b53293515508a85aca3d614e7afc3e147096ae0e7cd485c9efec433e\n",
      "  Stored in directory: c:\\users\\camille\\appdata\\local\\pip\\cache\\wheels\\69\\20\\49\\92e2edda746b536f1f9f81536cbe5463fffdfa20465a47ee3d\n",
      "Successfully built stackapi\n",
      "Installing collected packages: stackapi\n",
      "Successfully installed stackapi-0.1.12\n"
     ]
    }
   ],
   "source": [
    "!pip install stackapi"
   ]
  },
  {
   "cell_type": "code",
   "execution_count": 1,
   "metadata": {},
   "outputs": [],
   "source": [
    "# your code here\n",
    "from stackapi import StackAPI\n",
    "url='https://stackapi.readthedocs.io/en/latest/'"
   ]
  },
  {
   "cell_type": "markdown",
   "metadata": {},
   "source": [
    "#### Question 1: Find the questions and answers of last month."
   ]
  },
  {
   "cell_type": "code",
   "execution_count": null,
   "metadata": {},
   "outputs": [],
   "source": [
    "# your code here"
   ]
  },
  {
   "cell_type": "markdown",
   "metadata": {},
   "source": [
    "#### Question 2: Find the most voted question today with at least a score of 5 and tagged with 'python'. "
   ]
  },
  {
   "cell_type": "code",
   "execution_count": null,
   "metadata": {},
   "outputs": [],
   "source": [
    "# your code here"
   ]
  },
  {
   "cell_type": "markdown",
   "metadata": {},
   "source": [
    "#### Question 3: Find the answers with id 6784 and 6473."
   ]
  },
  {
   "cell_type": "code",
   "execution_count": null,
   "metadata": {},
   "outputs": [],
   "source": [
    "# your code here"
   ]
  }
 ],
 "metadata": {
  "kernelspec": {
   "display_name": "Python 3",
   "language": "python",
   "name": "python3"
  },
  "language_info": {
   "codemirror_mode": {
    "name": "ipython",
    "version": 3
   },
   "file_extension": ".py",
   "mimetype": "text/x-python",
   "name": "python",
   "nbconvert_exporter": "python",
   "pygments_lexer": "ipython3",
   "version": "3.7.4"
  }
 },
 "nbformat": 4,
 "nbformat_minor": 2
}

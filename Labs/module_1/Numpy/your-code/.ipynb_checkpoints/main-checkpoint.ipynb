{
 "cells": [
  {
   "cell_type": "markdown",
   "metadata": {},
   "source": [
    "# Intrduction to NumPy\n",
    "\n",
    "\n",
    "#### 1. Import NumPy under the name np."
   ]
  },
  {
   "cell_type": "code",
   "execution_count": 356,
   "metadata": {},
   "outputs": [],
   "source": [
    "# your code here\n",
    "import numpy as np"
   ]
  },
  {
   "cell_type": "markdown",
   "metadata": {},
   "source": [
    "#### 2. Print your NumPy version."
   ]
  },
  {
   "cell_type": "code",
   "execution_count": 357,
   "metadata": {},
   "outputs": [
    {
     "name": "stdout",
     "output_type": "stream",
     "text": [
      "<module 'numpy' from 'C:\\\\Users\\\\Camille\\\\Anaconda3\\\\Anaconda33\\\\lib\\\\site-packages\\\\numpy\\\\__init__.py'>\n"
     ]
    }
   ],
   "source": [
    "# your code here\n",
    "print(np)"
   ]
  },
  {
   "cell_type": "markdown",
   "metadata": {},
   "source": [
    "#### 3. Generate a 2x3x5 3-dimensional array with random values. Assign the array to variable *a*.\n",
    "**Challenge**: there are at least three easy ways that use numpy to generate random arrays. How many ways can you find?"
   ]
  },
  {
   "cell_type": "code",
   "execution_count": 358,
   "metadata": {},
   "outputs": [],
   "source": [
    "# Method 1\n",
    "a=np.random.random((2,3,5))"
   ]
  },
  {
   "cell_type": "code",
   "execution_count": 392,
   "metadata": {},
   "outputs": [
    {
     "data": {
      "text/plain": [
       "array([[[0.52126334, 0.81444452, 0.73591344, 0.90499043, 0.24394683],\n",
       "        [0.9163173 , 0.23901983, 0.51874702, 0.69030019, 0.59538838],\n",
       "        [0.86276614, 0.63282865, 0.3138402 , 0.41711822, 0.8945147 ]],\n",
       "\n",
       "       [[0.13986952, 0.62507089, 0.9362172 , 0.65967425, 0.94430719],\n",
       "        [0.821594  , 0.65610077, 0.96977056, 0.96362129, 0.90576389],\n",
       "        [0.96159683, 0.07186939, 0.92559203, 0.74701669, 0.97183596]]])"
      ]
     },
     "execution_count": 392,
     "metadata": {},
     "output_type": "execute_result"
    }
   ],
   "source": [
    "# Method 2\n",
    "np.random.random((30)).reshape(2,3,5)"
   ]
  },
  {
   "cell_type": "code",
   "execution_count": 395,
   "metadata": {},
   "outputs": [
    {
     "data": {
      "text/plain": [
       "array([[[0.60035105, 0.43996018, 0.97534729, 0.53029054, 0.1295986 ],\n",
       "        [0.19567037, 0.50798318, 0.29443489, 0.66605501, 0.6675156 ],\n",
       "        [0.83823846, 0.83705765, 0.12853896, 0.80043899, 0.72894217]],\n",
       "\n",
       "       [[0.80934526, 0.79812986, 0.5906361 , 0.09016994, 0.14942952],\n",
       "        [0.48859276, 0.01403027, 0.81394797, 0.62464295, 0.31436424],\n",
       "        [0.34371312, 0.66619824, 0.89247215, 0.70877559, 0.83712454]]])"
      ]
     },
     "execution_count": 395,
     "metadata": {},
     "output_type": "execute_result"
    }
   ],
   "source": [
    "np.random.sample((2,3,5))"
   ]
  },
  {
   "cell_type": "code",
   "execution_count": 396,
   "metadata": {},
   "outputs": [
    {
     "data": {
      "text/plain": [
       "0.19322727798602257"
      ]
     },
     "execution_count": 396,
     "metadata": {},
     "output_type": "execute_result"
    }
   ],
   "source": [
    "np.random.rand()"
   ]
  },
  {
   "cell_type": "code",
   "execution_count": 360,
   "metadata": {},
   "outputs": [
    {
     "data": {
      "text/plain": [
       "array([[[0.49509732, 0.13919178, 0.68071778],\n",
       "        [0.01616004, 0.24161927, 0.34333712]],\n",
       "\n",
       "       [[0.25836888, 0.84062622, 0.89092604],\n",
       "        [0.04130787, 0.09077122, 0.45028567]],\n",
       "\n",
       "       [[0.11684901, 0.46154509, 0.3595673 ],\n",
       "        [0.31472409, 0.54777009, 0.32008396]],\n",
       "\n",
       "       [[0.38700051, 0.02197762, 0.58541692],\n",
       "        [0.8830782 , 0.85884329, 0.81204669]],\n",
       "\n",
       "       [[0.33211531, 0.74636979, 0.87380105],\n",
       "        [0.74695106, 0.195562  , 0.00785182]]])"
      ]
     },
     "execution_count": 360,
     "metadata": {},
     "output_type": "execute_result"
    }
   ],
   "source": [
    "# Method 3\n",
    "np.empty((5,2,3))"
   ]
  },
  {
   "cell_type": "markdown",
   "metadata": {},
   "source": [
    "#### 4. Print *a*.\n"
   ]
  },
  {
   "cell_type": "code",
   "execution_count": 361,
   "metadata": {},
   "outputs": [
    {
     "data": {
      "text/plain": [
       "array([[[0.7893481 , 0.1638363 , 0.01339648, 0.61994515, 0.51009637],\n",
       "        [0.86924758, 0.8429678 , 0.00786014, 0.66995964, 0.9133954 ],\n",
       "        [0.03152556, 0.27804646, 0.73069616, 0.51813875, 0.89570227]],\n",
       "\n",
       "       [[0.12262608, 0.89937532, 0.84911903, 0.22716409, 0.58025998],\n",
       "        [0.01142951, 0.70358115, 0.4907548 , 0.61922004, 0.92713064],\n",
       "        [0.88838304, 0.21584285, 0.59590722, 0.1126425 , 0.10502352]]])"
      ]
     },
     "execution_count": 361,
     "metadata": {},
     "output_type": "execute_result"
    }
   ],
   "source": [
    "# your code here\n",
    "a"
   ]
  },
  {
   "cell_type": "code",
   "execution_count": 362,
   "metadata": {},
   "outputs": [
    {
     "data": {
      "text/plain": [
       "(2, 3, 5)"
      ]
     },
     "execution_count": 362,
     "metadata": {},
     "output_type": "execute_result"
    }
   ],
   "source": [
    "a.shape"
   ]
  },
  {
   "cell_type": "markdown",
   "metadata": {},
   "source": [
    "#### 5. Create a 5x2x3 3-dimensional array with all values equaling 1. Assign the array to variable *b*."
   ]
  },
  {
   "cell_type": "code",
   "execution_count": 363,
   "metadata": {},
   "outputs": [
    {
     "data": {
      "text/plain": [
       "array([[[1, 1, 1],\n",
       "        [1, 1, 1]],\n",
       "\n",
       "       [[1, 1, 1],\n",
       "        [1, 1, 1]],\n",
       "\n",
       "       [[1, 1, 1],\n",
       "        [1, 1, 1]],\n",
       "\n",
       "       [[1, 1, 1],\n",
       "        [1, 1, 1]],\n",
       "\n",
       "       [[1, 1, 1],\n",
       "        [1, 1, 1]]], dtype=int16)"
      ]
     },
     "execution_count": 363,
     "metadata": {},
     "output_type": "execute_result"
    }
   ],
   "source": [
    "# your code here\n",
    "np.ones((5,2,3), dtype=np.int16)"
   ]
  },
  {
   "cell_type": "code",
   "execution_count": 364,
   "metadata": {},
   "outputs": [],
   "source": [
    "b=np.full((5,2,3), 1)"
   ]
  },
  {
   "cell_type": "markdown",
   "metadata": {},
   "source": [
    "#### 6. Print *b*.\n"
   ]
  },
  {
   "cell_type": "code",
   "execution_count": 365,
   "metadata": {},
   "outputs": [
    {
     "data": {
      "text/plain": [
       "array([[[1, 1, 1],\n",
       "        [1, 1, 1]],\n",
       "\n",
       "       [[1, 1, 1],\n",
       "        [1, 1, 1]],\n",
       "\n",
       "       [[1, 1, 1],\n",
       "        [1, 1, 1]],\n",
       "\n",
       "       [[1, 1, 1],\n",
       "        [1, 1, 1]],\n",
       "\n",
       "       [[1, 1, 1],\n",
       "        [1, 1, 1]]])"
      ]
     },
     "execution_count": 365,
     "metadata": {},
     "output_type": "execute_result"
    }
   ],
   "source": [
    "# your code here\n",
    "b"
   ]
  },
  {
   "cell_type": "markdown",
   "metadata": {},
   "source": [
    "#### 7. Do *a* and *b* have the same size? How do you prove that in Python code?"
   ]
  },
  {
   "cell_type": "code",
   "execution_count": 366,
   "metadata": {},
   "outputs": [
    {
     "data": {
      "text/plain": [
       "False"
      ]
     },
     "execution_count": 366,
     "metadata": {},
     "output_type": "execute_result"
    }
   ],
   "source": [
    "# your code here\n",
    "a.shape==b.shape"
   ]
  },
  {
   "cell_type": "code",
   "execution_count": 397,
   "metadata": {},
   "outputs": [
    {
     "data": {
      "text/plain": [
       "True"
      ]
     },
     "execution_count": 397,
     "metadata": {},
     "output_type": "execute_result"
    }
   ],
   "source": [
    "a.size==b.size"
   ]
  },
  {
   "cell_type": "markdown",
   "metadata": {},
   "source": [
    "#### 8. Are you able to add *a* and *b*? Why or why not?\n"
   ]
  },
  {
   "cell_type": "code",
   "execution_count": 367,
   "metadata": {},
   "outputs": [
    {
     "data": {
      "text/plain": [
       "\"They don't have the same shape so we're not able to add them.\""
      ]
     },
     "execution_count": 367,
     "metadata": {},
     "output_type": "execute_result"
    }
   ],
   "source": [
    "# your answer here\n",
    "\"They don't have the same shape so we're not able to add them.\""
   ]
  },
  {
   "cell_type": "markdown",
   "metadata": {},
   "source": [
    "#### 9. Transpose *b* so that it has the same structure of *a* (i.e. become a 2x3x5 array). Assign the transposed array to variable *c*."
   ]
  },
  {
   "cell_type": "code",
   "execution_count": 368,
   "metadata": {},
   "outputs": [
    {
     "data": {
      "text/plain": [
       "(3, 2, 5)"
      ]
     },
     "execution_count": 368,
     "metadata": {},
     "output_type": "execute_result"
    }
   ],
   "source": [
    "# your code here\n",
    "x=b.transpose()\n",
    "x.shape"
   ]
  },
  {
   "cell_type": "code",
   "execution_count": 398,
   "metadata": {},
   "outputs": [
    {
     "data": {
      "text/plain": [
       "array([[[1, 1, 1, 1, 1],\n",
       "        [1, 1, 1, 1, 1],\n",
       "        [1, 1, 1, 1, 1]],\n",
       "\n",
       "       [[1, 1, 1, 1, 1],\n",
       "        [1, 1, 1, 1, 1],\n",
       "        [1, 1, 1, 1, 1]]])"
      ]
     },
     "execution_count": 398,
     "metadata": {},
     "output_type": "execute_result"
    }
   ],
   "source": [
    "b.transpose((1,2,0))"
   ]
  },
  {
   "cell_type": "code",
   "execution_count": 369,
   "metadata": {},
   "outputs": [
    {
     "data": {
      "text/plain": [
       "(2, 3, 5)"
      ]
     },
     "execution_count": 369,
     "metadata": {},
     "output_type": "execute_result"
    }
   ],
   "source": [
    "c=b.reshape(2,3,5)\n",
    "c.shape"
   ]
  },
  {
   "cell_type": "markdown",
   "metadata": {},
   "source": [
    "#### 10. Try to add *a* and *c*. Now it should work. Assign the sum to variable *d*. But why does it work now?"
   ]
  },
  {
   "cell_type": "code",
   "execution_count": 370,
   "metadata": {},
   "outputs": [],
   "source": [
    "# your code/answer here\n",
    "d=a+c"
   ]
  },
  {
   "cell_type": "code",
   "execution_count": 371,
   "metadata": {},
   "outputs": [
    {
     "data": {
      "text/plain": [
       "'It works because they are the same shape'"
      ]
     },
     "execution_count": 371,
     "metadata": {},
     "output_type": "execute_result"
    }
   ],
   "source": [
    "\"\"\"It works because they are the same shape\"\"\""
   ]
  },
  {
   "cell_type": "markdown",
   "metadata": {},
   "source": [
    "#### 11. Print *a* and *d*. Notice the difference and relation of the two array in terms of the values? Explain."
   ]
  },
  {
   "cell_type": "code",
   "execution_count": 372,
   "metadata": {},
   "outputs": [
    {
     "name": "stdout",
     "output_type": "stream",
     "text": [
      "a=  [[[0.7893481  0.1638363  0.01339648 0.61994515 0.51009637]\n",
      "  [0.86924758 0.8429678  0.00786014 0.66995964 0.9133954 ]\n",
      "  [0.03152556 0.27804646 0.73069616 0.51813875 0.89570227]]\n",
      "\n",
      " [[0.12262608 0.89937532 0.84911903 0.22716409 0.58025998]\n",
      "  [0.01142951 0.70358115 0.4907548  0.61922004 0.92713064]\n",
      "  [0.88838304 0.21584285 0.59590722 0.1126425  0.10502352]]] \n",
      " d=  [[[1.7893481  1.1638363  1.01339648 1.61994515 1.51009637]\n",
      "  [1.86924758 1.8429678  1.00786014 1.66995964 1.9133954 ]\n",
      "  [1.03152556 1.27804646 1.73069616 1.51813875 1.89570227]]\n",
      "\n",
      " [[1.12262608 1.89937532 1.84911903 1.22716409 1.58025998]\n",
      "  [1.01142951 1.70358115 1.4907548  1.61922004 1.92713064]\n",
      "  [1.88838304 1.21584285 1.59590722 1.1126425  1.10502352]]]\n"
     ]
    }
   ],
   "source": [
    "# your code/answer here\n",
    "print('a= ',a,'\\n d= ',d)"
   ]
  },
  {
   "cell_type": "code",
   "execution_count": 373,
   "metadata": {},
   "outputs": [
    {
     "data": {
      "text/plain": [
       "'d-a=d'"
      ]
     },
     "execution_count": 373,
     "metadata": {},
     "output_type": "execute_result"
    }
   ],
   "source": [
    "\"\"\"d-a=d\"\"\""
   ]
  },
  {
   "cell_type": "markdown",
   "metadata": {},
   "source": [
    "#### 12. Multiply *a* and *c*. Assign the result to *e*."
   ]
  },
  {
   "cell_type": "code",
   "execution_count": 399,
   "metadata": {},
   "outputs": [
    {
     "data": {
      "text/plain": [
       "array([[[0.7893481 , 0.1638363 , 0.01339648, 0.61994515, 0.51009637],\n",
       "        [0.86924758, 0.8429678 , 0.00786014, 0.66995964, 0.9133954 ],\n",
       "        [0.03152556, 0.27804646, 0.73069616, 0.51813875, 0.89570227]],\n",
       "\n",
       "       [[0.12262608, 0.89937532, 0.84911903, 0.22716409, 0.58025998],\n",
       "        [0.01142951, 0.70358115, 0.4907548 , 0.61922004, 0.92713064],\n",
       "        [0.88838304, 0.21584285, 0.59590722, 0.1126425 , 0.10502352]]])"
      ]
     },
     "execution_count": 399,
     "metadata": {},
     "output_type": "execute_result"
    }
   ],
   "source": [
    "# your code here\n",
    "e=np.multiply(a,c)\n",
    "e"
   ]
  },
  {
   "cell_type": "code",
   "execution_count": 400,
   "metadata": {},
   "outputs": [
    {
     "data": {
      "text/plain": [
       "array([[[0.7893481 , 0.1638363 , 0.01339648, 0.61994515, 0.51009637],\n",
       "        [0.86924758, 0.8429678 , 0.00786014, 0.66995964, 0.9133954 ],\n",
       "        [0.03152556, 0.27804646, 0.73069616, 0.51813875, 0.89570227]],\n",
       "\n",
       "       [[0.12262608, 0.89937532, 0.84911903, 0.22716409, 0.58025998],\n",
       "        [0.01142951, 0.70358115, 0.4907548 , 0.61922004, 0.92713064],\n",
       "        [0.88838304, 0.21584285, 0.59590722, 0.1126425 , 0.10502352]]])"
      ]
     },
     "execution_count": 400,
     "metadata": {},
     "output_type": "execute_result"
    }
   ],
   "source": [
    "a*c"
   ]
  },
  {
   "cell_type": "code",
   "execution_count": 375,
   "metadata": {},
   "outputs": [
    {
     "data": {
      "text/plain": [
       "(2, 3, 5)"
      ]
     },
     "execution_count": 375,
     "metadata": {},
     "output_type": "execute_result"
    }
   ],
   "source": [
    "c.shape"
   ]
  },
  {
   "cell_type": "code",
   "execution_count": 376,
   "metadata": {},
   "outputs": [
    {
     "data": {
      "text/plain": [
       "(2, 3, 5)"
      ]
     },
     "execution_count": 376,
     "metadata": {},
     "output_type": "execute_result"
    }
   ],
   "source": [
    "a.shape"
   ]
  },
  {
   "cell_type": "markdown",
   "metadata": {},
   "source": [
    "#### 13. Does *e* equal to *a*? Why or why not?\n"
   ]
  },
  {
   "cell_type": "code",
   "execution_count": 377,
   "metadata": {},
   "outputs": [
    {
     "data": {
      "text/plain": [
       "'Yes, e is equal to a as c is a 1 matrix'"
      ]
     },
     "execution_count": 377,
     "metadata": {},
     "output_type": "execute_result"
    }
   ],
   "source": [
    "# your code/answer here\n",
    "a==e\n",
    "\"\"\"Yes, e is equal to a as c is a 1 matrix\"\"\""
   ]
  },
  {
   "cell_type": "markdown",
   "metadata": {},
   "source": [
    "#### 14. Identify the max, min, and mean values in *d*. Assign those values to variables *d_max*, *d_min* and *d_mean*."
   ]
  },
  {
   "cell_type": "code",
   "execution_count": 378,
   "metadata": {},
   "outputs": [
    {
     "name": "stdout",
     "output_type": "stream",
     "text": [
      "max= 1.9271306382319227  min= 1.0078601404990262  mean= 1.5067540643551423\n"
     ]
    }
   ],
   "source": [
    "# your code here\n",
    "d_max=d.max()\n",
    "d_min=d.min()\n",
    "d_mean=d.mean()\n",
    "print(\"max=\",d_max,\" min=\",d_min,\" mean=\",d_mean)"
   ]
  },
  {
   "cell_type": "markdown",
   "metadata": {},
   "source": [
    "#### 15. Now we want to label the values in *d*. First create an empty array *f* with the same shape (i.e. 2x3x5) as *d* using `np.empty`.\n"
   ]
  },
  {
   "cell_type": "code",
   "execution_count": 379,
   "metadata": {},
   "outputs": [],
   "source": [
    "# your code here\n",
    "f=np.empty((2,3,5))"
   ]
  },
  {
   "cell_type": "markdown",
   "metadata": {},
   "source": [
    "#### 16. Populate the values in *f*. \n",
    "\n",
    "For each value in *d*, if it's larger than *d_min* but smaller than *d_mean*, assign 25 to the corresponding value in *f*. If a value in *d* is larger than *d_mean* but smaller than *d_max*, assign 75 to the corresponding value in *f*. If a value equals to *d_mean*, assign 50 to the corresponding value in *f*. Assign 0 to the corresponding value(s) in *f* for *d_min* in *d*. Assign 100 to the corresponding value(s) in *f* for *d_max* in *d*. In the end, f should have only the following values: 0, 25, 50, 75, and 100.\n",
    "\n",
    "**Note**: you don't have to use Numpy in this question."
   ]
  },
  {
   "cell_type": "code",
   "execution_count": 380,
   "metadata": {},
   "outputs": [
    {
     "data": {
      "text/plain": [
       "(2, 3, 5)"
      ]
     },
     "execution_count": 380,
     "metadata": {},
     "output_type": "execute_result"
    }
   ],
   "source": [
    "d[1,1,1]\n",
    "d.shape"
   ]
  },
  {
   "cell_type": "code",
   "execution_count": 381,
   "metadata": {},
   "outputs": [
    {
     "data": {
      "text/plain": [
       "1.5959072156885858"
      ]
     },
     "execution_count": 381,
     "metadata": {},
     "output_type": "execute_result"
    }
   ],
   "source": [
    "d[1,2,2]"
   ]
  },
  {
   "cell_type": "code",
   "execution_count": 382,
   "metadata": {},
   "outputs": [
    {
     "data": {
      "text/plain": [
       "range(0, 2)"
      ]
     },
     "execution_count": 382,
     "metadata": {},
     "output_type": "execute_result"
    }
   ],
   "source": [
    "range(2)"
   ]
  },
  {
   "cell_type": "code",
   "execution_count": 383,
   "metadata": {},
   "outputs": [],
   "source": [
    "# your code here\n",
    "for i in range(2):\n",
    "    for j in range(3):\n",
    "        for k in range(5):\n",
    "            if (d[i,j,k]>d_min) & (d[i,j,k]<d_mean):\n",
    "                f[i,j,k]=25\n",
    "            elif (d[i,j,k]>d_mean) & (d[i,j,k]<d_max):\n",
    "                f[i,j,k]=75\n",
    "            elif d[i,j,k]==d_mean:\n",
    "                f[i,j,k]=50\n",
    "            elif d[i,j,k] ==d_min:\n",
    "                f[i,j,k]=0\n",
    "            elif d[i,j,k] ==d_max:\n",
    "                f[i,j,k]=100"
   ]
  },
  {
   "cell_type": "markdown",
   "metadata": {},
   "source": [
    "#### 17. Print *d* and *f*. Do you have your expected *f*?\n",
    "For instance, if your *d* is:\n",
    "```python\n",
    "[[[1.85836099, 1.67064465, 1.62576044, 1.40243961, 1.88454931],\n",
    "[1.75354326, 1.69403643, 1.36729252, 1.61415071, 1.12104981],\n",
    "[1.72201435, 1.1862918 , 1.87078449, 1.7726778 , 1.88180042]],\n",
    "[[1.44747908, 1.31673383, 1.02000951, 1.52218947, 1.97066381],\n",
    "[1.79129243, 1.74983003, 1.96028037, 1.85166831, 1.65450881],\n",
    "[1.18068344, 1.9587381 , 1.00656599, 1.93402165, 1.73514584]]]\n",
    "```\n",
    "Your *f* should be:\n",
    "```python\n",
    "[[[ 75.,  75.,  75.,  25.,  75.],\n",
    "[ 75.,  75.,  25.,  25.,  25.],\n",
    "[ 75.,  25.,  75.,  75.,  75.]],\n",
    "[[ 25.,  25.,  25.,  25., 100.],\n",
    "[ 75.,  75.,  75.,  75.,  75.],\n",
    "[ 25.,  75.,   0.,  75.,  75.]]]\n",
    "```"
   ]
  },
  {
   "cell_type": "code",
   "execution_count": 384,
   "metadata": {},
   "outputs": [
    {
     "name": "stdout",
     "output_type": "stream",
     "text": [
      "max= 1.9271306382319227  min= 1.0078601404990262  mean= 1.5067540643551423\n"
     ]
    }
   ],
   "source": [
    "print(\"max=\",d_max,\" min=\",d_min,\" mean=\",d_mean)"
   ]
  },
  {
   "cell_type": "code",
   "execution_count": 385,
   "metadata": {},
   "outputs": [
    {
     "name": "stdout",
     "output_type": "stream",
     "text": [
      "d= [[[1.7893481  1.1638363  1.01339648 1.61994515 1.51009637]\n",
      "  [1.86924758 1.8429678  1.00786014 1.66995964 1.9133954 ]\n",
      "  [1.03152556 1.27804646 1.73069616 1.51813875 1.89570227]]\n",
      "\n",
      " [[1.12262608 1.89937532 1.84911903 1.22716409 1.58025998]\n",
      "  [1.01142951 1.70358115 1.4907548  1.61922004 1.92713064]\n",
      "  [1.88838304 1.21584285 1.59590722 1.1126425  1.10502352]]] \n",
      " f= [[[ 75.  25.  25.  75.  75.]\n",
      "  [ 75.  75.   0.  75.  75.]\n",
      "  [ 25.  25.  75.  75.  75.]]\n",
      "\n",
      " [[ 25.  75.  75.  25.  75.]\n",
      "  [ 25.  75.  25.  75. 100.]\n",
      "  [ 75.  25.  75.  25.  25.]]]\n"
     ]
    }
   ],
   "source": [
    "# your code here\n",
    "print(\"d=\",d,\"\\n f=\",f)"
   ]
  },
  {
   "cell_type": "markdown",
   "metadata": {},
   "source": [
    "#### 18. Bonus question: instead of using numbers (i.e. 0, 25, 50, 75, and 100), use string values  (\"A\", \"B\", \"C\", \"D\", and \"E\") to label the array elements. For the example above, the expected result is:\n",
    "\n",
    "```python\n",
    "[[[ 'D',  'D',  'D',  'B',  'D'],\n",
    "[ 'D',  'D',  'B',  'B',  'B'],\n",
    "[ 'D',  'B',  'D',  'D',  'D']],\n",
    "[[ 'B',  'B',  'B',  'B',  'E'],\n",
    "[ 'D',  'D',  'D',  'D',  'D'],\n",
    "[ 'B',  'D',   'A',  'D', 'D']]]\n",
    "```\n",
    "**Note**: you don't have to use Numpy in this question."
   ]
  },
  {
   "cell_type": "code",
   "execution_count": null,
   "metadata": {},
   "outputs": [],
   "source": [
    "# your code here\n",
    "\"\"\"for i in range(2):\n",
    "    for j in range(3):\n",
    "        for k in range(5):\n",
    "            if (d[i,j,k]>d_min) & (d[i,j,k]<d_mean):\n",
    "                f[i,j,k]='A'\n",
    "            elif (d[i,j,k]>d_mean) & (d[i,j,k]<d_max):\n",
    "                f[i,j,k]='B'\n",
    "            elif d[i,j,k]==d_mean:\n",
    "                f[i,j,k]=\"C\"\n",
    "            elif d[i,j,k] ==d_min:\n",
    "                f[i,j,k]=\"D\"\n",
    "            elif d[i,j,k] ==d_max:\n",
    "                f[i,j,k]=\"E\"\"\"\""
   ]
  },
  {
   "cell_type": "code",
   "execution_count": null,
   "metadata": {},
   "outputs": [],
   "source": [
    "### def transformation(x):\n",
    "\"\"\"    if x=='0':\n",
    "        x=\"A\"\n",
    "    elif x=='25':\n",
    "        x=\"B\"\n",
    "    elif x=='50':\n",
    "        x=\"C\"\n",
    "    elif x==b'75.0':\n",
    "        x=\"D\"\n",
    "    elif x=='100':\n",
    "        x=\"E\"\n",
    "    return x\n",
    "transformation('0')\"\"\""
   ]
  },
  {
   "cell_type": "code",
   "execution_count": 387,
   "metadata": {},
   "outputs": [
    {
     "data": {
      "text/plain": [
       "array([[['75.0', '25.0', '25.0', '75.0', '75.0'],\n",
       "        ['75.0', '75.0', '0.0', '75.0', '75.0'],\n",
       "        ['25.0', '25.0', '75.0', '75.0', '75.0']],\n",
       "\n",
       "       [['25.0', '75.0', '75.0', '25.0', '75.0'],\n",
       "        ['25.0', '75.0', '25.0', '75.0', '100.0'],\n",
       "        ['75.0', '25.0', '75.0', '25.0', '25.0']]], dtype='<U32')"
      ]
     },
     "execution_count": 387,
     "metadata": {},
     "output_type": "execute_result"
    }
   ],
   "source": [
    "g=f.astype(str)\n",
    "g"
   ]
  },
  {
   "cell_type": "code",
   "execution_count": 388,
   "metadata": {},
   "outputs": [],
   "source": [
    "#g=np.asarray(f,dtype=np.string_)"
   ]
  },
  {
   "cell_type": "code",
   "execution_count": 389,
   "metadata": {},
   "outputs": [],
   "source": [
    "# your code here\n",
    "for i in range(2):\n",
    "    for j in range(3):\n",
    "        for k in range(5):\n",
    "            if g[i,j,k]=='0.0':\n",
    "                g[i,j,k]='A'\n",
    "            elif g[i,j,k]=='25.0':\n",
    "                g[i,j,k]='B'\n",
    "            elif g[i,j,k]=='50.0':\n",
    "                g[i,j,k]=\"C\"\n",
    "            elif g[i,j,k]=='75.0':\n",
    "                g[i,j,k]=\"D\"\n",
    "            elif g[i,j,k]=='100.0':\n",
    "                g[i,j,k]=\"E\""
   ]
  },
  {
   "cell_type": "code",
   "execution_count": 390,
   "metadata": {},
   "outputs": [
    {
     "data": {
      "text/plain": [
       "array([[['D', 'B', 'B', 'D', 'D'],\n",
       "        ['D', 'D', 'A', 'D', 'D'],\n",
       "        ['B', 'B', 'D', 'D', 'D']],\n",
       "\n",
       "       [['B', 'D', 'D', 'B', 'D'],\n",
       "        ['B', 'D', 'B', 'D', 'E'],\n",
       "        ['D', 'B', 'D', 'B', 'B']]], dtype='<U32')"
      ]
     },
     "execution_count": 390,
     "metadata": {},
     "output_type": "execute_result"
    }
   ],
   "source": [
    "g"
   ]
  },
  {
   "cell_type": "code",
   "execution_count": 391,
   "metadata": {},
   "outputs": [
    {
     "data": {
      "text/plain": [
       "dtype('<U32')"
      ]
     },
     "execution_count": 391,
     "metadata": {},
     "output_type": "execute_result"
    }
   ],
   "source": [
    "g.dtype"
   ]
  }
 ],
 "metadata": {
  "kernelspec": {
   "display_name": "Python 3",
   "language": "python",
   "name": "python3"
  },
  "language_info": {
   "codemirror_mode": {
    "name": "ipython",
    "version": 3
   },
   "file_extension": ".py",
   "mimetype": "text/x-python",
   "name": "python",
   "nbconvert_exporter": "python",
   "pygments_lexer": "ipython3",
   "version": "3.7.4"
  }
 },
 "nbformat": 4,
 "nbformat_minor": 2
}
